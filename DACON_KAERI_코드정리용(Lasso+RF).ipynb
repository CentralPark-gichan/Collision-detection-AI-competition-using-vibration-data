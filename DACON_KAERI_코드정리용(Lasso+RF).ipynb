{
 "cells": [
  {
   "cell_type": "markdown",
   "metadata": {},
   "source": [
    "## [DACON] 진동데이터 활용 충돌체 탐지 AI 경진대회\n",
    "## 두부(팀명) (Team name)\n",
    "## 2020년 7월 17일 (제출날짜) (Submission date)"
   ]
  },
  {
   "cell_type": "code",
   "execution_count": null,
   "metadata": {},
   "outputs": [],
   "source": []
  },
  {
   "cell_type": "markdown",
   "metadata": {},
   "source": [
    "## 0. 들어가기에 앞서\n",
    "\n",
    "data에 대한 EDA를 하고 insight를 얻을 겸, 선형모델과 Tree모델을 통해 target을 예측해 보았습니다.\\\n",
    "이 과정에서 얻은 insight를 통해 CNN에서 간단한 변수 하나와, 적절한 시간까지의 데이터 사용을 통해 성능을 올릴 수 있었습니다. \\\n",
    "또한 대회 metric이 굉장히 예민하기 때문에 선형모델과 Tree모델의 성능이 좋지 않더라도 \\\n",
    "앙상블을 한다면 조금이라도 성능이 오르지 않을까 해서 대회 초반에 시행해 보았습니다 \n",
    "\n",
    "결과적으로, \n",
    "\n",
    "(CNN1 + CNN2) LB : 0.0035 \\\n",
    "(CNN1 + CNN2)*0.5 + (CNN3 + CNN4)*0.5 LB : 0.003 \\\n",
    "(CNN1 + CNN2)*0.5 + (CNN3 + CNN4 + Lasso_RF)*0.5 LB : 0.0025 \\\n",
    "\n",
    "로서 약간의 성능 향상을 얻을 수 있었습니다\n",
    "\n",
    "(EDA부분은 PPT에 담아 두었습니다)"
   ]
  },
  {
   "cell_type": "markdown",
   "metadata": {},
   "source": [
    "## 1. 라이브러리 및 데이터\n",
    "## Library & Data"
   ]
  },
  {
   "cell_type": "code",
   "execution_count": 274,
   "metadata": {},
   "outputs": [],
   "source": [
    "import os\n",
    "import numpy as np\n",
    "import pandas as pd\n",
    "import matplotlib.pyplot as plt\n",
    "import seaborn as sns\n",
    "\n",
    "import warnings\n",
    "warnings.filterwarnings(\"ignore\")\n",
    "\n",
    "import random\n",
    "random.seed(777)\n",
    "np.random.seed(1)\n",
    "\n",
    "import matplotlib.pyplot as plt\n",
    "from sklearn.model_selection import KFold, cross_val_score, GridSearchCV\n",
    "from tqdm import tqdm\n",
    "import lightgbm as lgbm\n",
    "import re\n",
    "from sklearn.ensemble import RandomForestRegressor \n",
    "os.getcwd()\n",
    "os.chdir('C:\\\\Users\\\\ParkGiChan\\\\Desktop\\\\DataAnalysis\\\\DACON_KAERI')"
   ]
  },
  {
   "cell_type": "markdown",
   "metadata": {},
   "source": [
    "## 2. 데이터 전처리\n",
    "## Data Cleansing & Pre-Processing  "
   ]
  },
  {
   "cell_type": "code",
   "execution_count": 275,
   "metadata": {},
   "outputs": [],
   "source": [
    "train = pd.read_csv(\"train_features.csv\")\n",
    "test = pd.read_csv(\"test_features.csv\")\n",
    "y_train = pd.read_csv(\"train_target.csv\", index_col=0)\n",
    "y_test = pd.read_csv(\"sample_submission.csv\", index_col=0)"
   ]
  },
  {
   "cell_type": "markdown",
   "metadata": {},
   "source": [
    "Data shpae을 바꿔줍니다"
   ]
  },
  {
   "cell_type": "code",
   "execution_count": 276,
   "metadata": {},
   "outputs": [],
   "source": [
    "def transform_df(train):\n",
    "    col = 'S1'\n",
    "    train['Time'] = (train['Time']*1000000).astype('int')\n",
    "    example = train.loc[:,['Time',col,'id']].copy()\n",
    "    example = example.set_index(['id','Time']).unstack()\n",
    "    example.columns = example.columns.map(lambda x: '{}_{}'.format(x[0], x[1]))\n",
    "    example = example.reset_index()\n",
    "    temp=example.copy()['id']\n",
    "    \n",
    "    for k in train.columns[2:]:\n",
    "    \n",
    "        example = train.loc[:,['Time',k,'id']].copy()\n",
    "        example = example.set_index(['id','Time']).unstack()\n",
    "        example.columns = example.columns.map(lambda x: '{}_{}'.format(x[0], x[1]))\n",
    "        example = example.reset_index()\n",
    "        temp = pd.merge(temp, example, on='id')\n",
    "     \n",
    "    temp.index = temp['id']\n",
    "    temp.drop('id', axis=1, inplace=True)\n",
    "\n",
    "    return temp"
   ]
  },
  {
   "cell_type": "code",
   "execution_count": 277,
   "metadata": {},
   "outputs": [],
   "source": [
    "X_train = transform_df(train)\n",
    "X_test = transform_df(test)\n",
    "df = X_train.append(X_test)"
   ]
  },
  {
   "cell_type": "code",
   "execution_count": 278,
   "metadata": {},
   "outputs": [
    {
     "data": {
      "text/html": [
       "<div>\n",
       "<style scoped>\n",
       "    .dataframe tbody tr th:only-of-type {\n",
       "        vertical-align: middle;\n",
       "    }\n",
       "\n",
       "    .dataframe tbody tr th {\n",
       "        vertical-align: top;\n",
       "    }\n",
       "\n",
       "    .dataframe thead th {\n",
       "        text-align: right;\n",
       "    }\n",
       "</style>\n",
       "<table border=\"1\" class=\"dataframe\">\n",
       "  <thead>\n",
       "    <tr style=\"text-align: right;\">\n",
       "      <th></th>\n",
       "      <th>S1_0</th>\n",
       "      <th>S1_4</th>\n",
       "      <th>S1_8</th>\n",
       "      <th>S1_12</th>\n",
       "      <th>S1_16</th>\n",
       "      <th>S1_20</th>\n",
       "      <th>S1_24</th>\n",
       "      <th>S1_28</th>\n",
       "      <th>S1_32</th>\n",
       "      <th>S1_36</th>\n",
       "      <th>...</th>\n",
       "      <th>S4_1460</th>\n",
       "      <th>S4_1464</th>\n",
       "      <th>S4_1468</th>\n",
       "      <th>S4_1472</th>\n",
       "      <th>S4_1475</th>\n",
       "      <th>S4_1480</th>\n",
       "      <th>S4_1484</th>\n",
       "      <th>S4_1488</th>\n",
       "      <th>S4_1492</th>\n",
       "      <th>S4_1496</th>\n",
       "    </tr>\n",
       "    <tr>\n",
       "      <th>id</th>\n",
       "      <th></th>\n",
       "      <th></th>\n",
       "      <th></th>\n",
       "      <th></th>\n",
       "      <th></th>\n",
       "      <th></th>\n",
       "      <th></th>\n",
       "      <th></th>\n",
       "      <th></th>\n",
       "      <th></th>\n",
       "      <th></th>\n",
       "      <th></th>\n",
       "      <th></th>\n",
       "      <th></th>\n",
       "      <th></th>\n",
       "      <th></th>\n",
       "      <th></th>\n",
       "      <th></th>\n",
       "      <th></th>\n",
       "      <th></th>\n",
       "      <th></th>\n",
       "    </tr>\n",
       "  </thead>\n",
       "  <tbody>\n",
       "    <tr>\n",
       "      <th>0</th>\n",
       "      <td>0.0</td>\n",
       "      <td>0.0</td>\n",
       "      <td>0.0</td>\n",
       "      <td>0.0</td>\n",
       "      <td>0.000000</td>\n",
       "      <td>0.000000e+00</td>\n",
       "      <td>0.000000</td>\n",
       "      <td>0.000000</td>\n",
       "      <td>0.00000</td>\n",
       "      <td>0.000000</td>\n",
       "      <td>...</td>\n",
       "      <td>182471.50</td>\n",
       "      <td>191195.90</td>\n",
       "      <td>189541.300</td>\n",
       "      <td>175185.20</td>\n",
       "      <td>147667.70</td>\n",
       "      <td>106792.60</td>\n",
       "      <td>58248.420</td>\n",
       "      <td>3015.649</td>\n",
       "      <td>-49795.1400</td>\n",
       "      <td>-95687.360</td>\n",
       "    </tr>\n",
       "    <tr>\n",
       "      <th>1</th>\n",
       "      <td>0.0</td>\n",
       "      <td>0.0</td>\n",
       "      <td>0.0</td>\n",
       "      <td>0.0</td>\n",
       "      <td>0.000000</td>\n",
       "      <td>0.000000e+00</td>\n",
       "      <td>0.000000</td>\n",
       "      <td>0.000000</td>\n",
       "      <td>0.00000</td>\n",
       "      <td>0.000000</td>\n",
       "      <td>...</td>\n",
       "      <td>-714642.40</td>\n",
       "      <td>-784526.90</td>\n",
       "      <td>-810421.700</td>\n",
       "      <td>-794061.90</td>\n",
       "      <td>-735795.10</td>\n",
       "      <td>-641504.60</td>\n",
       "      <td>-528058.800</td>\n",
       "      <td>-394603.000</td>\n",
       "      <td>-246912.0000</td>\n",
       "      <td>-75997.950</td>\n",
       "    </tr>\n",
       "    <tr>\n",
       "      <th>2</th>\n",
       "      <td>0.0</td>\n",
       "      <td>0.0</td>\n",
       "      <td>0.0</td>\n",
       "      <td>0.0</td>\n",
       "      <td>-0.000092</td>\n",
       "      <td>-6.843146e-03</td>\n",
       "      <td>-0.155149</td>\n",
       "      <td>-3.675771</td>\n",
       "      <td>-25.13809</td>\n",
       "      <td>-99.968380</td>\n",
       "      <td>...</td>\n",
       "      <td>-47886.90</td>\n",
       "      <td>-17237.54</td>\n",
       "      <td>5774.739</td>\n",
       "      <td>21298.59</td>\n",
       "      <td>26430.76</td>\n",
       "      <td>23816.36</td>\n",
       "      <td>15415.150</td>\n",
       "      <td>2599.393</td>\n",
       "      <td>-12329.6000</td>\n",
       "      <td>-27459.080</td>\n",
       "    </tr>\n",
       "    <tr>\n",
       "      <th>3</th>\n",
       "      <td>0.0</td>\n",
       "      <td>0.0</td>\n",
       "      <td>0.0</td>\n",
       "      <td>0.0</td>\n",
       "      <td>0.000000</td>\n",
       "      <td>0.000000e+00</td>\n",
       "      <td>0.000000</td>\n",
       "      <td>0.000000</td>\n",
       "      <td>0.00000</td>\n",
       "      <td>0.000000</td>\n",
       "      <td>...</td>\n",
       "      <td>170625.80</td>\n",
       "      <td>152155.30</td>\n",
       "      <td>128479.700</td>\n",
       "      <td>98125.52</td>\n",
       "      <td>65940.75</td>\n",
       "      <td>31120.66</td>\n",
       "      <td>-1469.299</td>\n",
       "      <td>-32862.860</td>\n",
       "      <td>-60362.7700</td>\n",
       "      <td>-84775.410</td>\n",
       "    </tr>\n",
       "    <tr>\n",
       "      <th>4</th>\n",
       "      <td>0.0</td>\n",
       "      <td>0.0</td>\n",
       "      <td>0.0</td>\n",
       "      <td>0.0</td>\n",
       "      <td>0.000000</td>\n",
       "      <td>3.230998e-07</td>\n",
       "      <td>0.000015</td>\n",
       "      <td>-0.000178</td>\n",
       "      <td>-0.01209</td>\n",
       "      <td>-0.629234</td>\n",
       "      <td>...</td>\n",
       "      <td>242069.10</td>\n",
       "      <td>254386.80</td>\n",
       "      <td>257263.500</td>\n",
       "      <td>249739.50</td>\n",
       "      <td>229809.80</td>\n",
       "      <td>196475.00</td>\n",
       "      <td>153669.900</td>\n",
       "      <td>102289.900</td>\n",
       "      <td>49481.1200</td>\n",
       "      <td>-3115.911</td>\n",
       "    </tr>\n",
       "    <tr>\n",
       "      <th>...</th>\n",
       "      <td>...</td>\n",
       "      <td>...</td>\n",
       "      <td>...</td>\n",
       "      <td>...</td>\n",
       "      <td>...</td>\n",
       "      <td>...</td>\n",
       "      <td>...</td>\n",
       "      <td>...</td>\n",
       "      <td>...</td>\n",
       "      <td>...</td>\n",
       "      <td>...</td>\n",
       "      <td>...</td>\n",
       "      <td>...</td>\n",
       "      <td>...</td>\n",
       "      <td>...</td>\n",
       "      <td>...</td>\n",
       "      <td>...</td>\n",
       "      <td>...</td>\n",
       "      <td>...</td>\n",
       "      <td>...</td>\n",
       "      <td>...</td>\n",
       "    </tr>\n",
       "    <tr>\n",
       "      <th>3495</th>\n",
       "      <td>0.0</td>\n",
       "      <td>0.0</td>\n",
       "      <td>0.0</td>\n",
       "      <td>0.0</td>\n",
       "      <td>0.000000</td>\n",
       "      <td>0.000000e+00</td>\n",
       "      <td>0.000000</td>\n",
       "      <td>0.000000</td>\n",
       "      <td>0.00000</td>\n",
       "      <td>0.000000</td>\n",
       "      <td>...</td>\n",
       "      <td>-190023.90</td>\n",
       "      <td>-247566.20</td>\n",
       "      <td>-288057.100</td>\n",
       "      <td>-316379.30</td>\n",
       "      <td>-328605.30</td>\n",
       "      <td>-328016.50</td>\n",
       "      <td>-315775.200</td>\n",
       "      <td>-293865.800</td>\n",
       "      <td>-265466.3000</td>\n",
       "      <td>-232333.300</td>\n",
       "    </tr>\n",
       "    <tr>\n",
       "      <th>3496</th>\n",
       "      <td>0.0</td>\n",
       "      <td>0.0</td>\n",
       "      <td>0.0</td>\n",
       "      <td>0.0</td>\n",
       "      <td>0.000000</td>\n",
       "      <td>0.000000e+00</td>\n",
       "      <td>0.000000</td>\n",
       "      <td>0.000000</td>\n",
       "      <td>0.00000</td>\n",
       "      <td>0.000000</td>\n",
       "      <td>...</td>\n",
       "      <td>-155721.40</td>\n",
       "      <td>-150691.80</td>\n",
       "      <td>-141373.500</td>\n",
       "      <td>-127431.20</td>\n",
       "      <td>-110918.50</td>\n",
       "      <td>-91823.54</td>\n",
       "      <td>-73415.460</td>\n",
       "      <td>-55572.000</td>\n",
       "      <td>-39766.0200</td>\n",
       "      <td>-25087.010</td>\n",
       "    </tr>\n",
       "    <tr>\n",
       "      <th>3497</th>\n",
       "      <td>0.0</td>\n",
       "      <td>0.0</td>\n",
       "      <td>0.0</td>\n",
       "      <td>0.0</td>\n",
       "      <td>0.000000</td>\n",
       "      <td>0.000000e+00</td>\n",
       "      <td>0.000000</td>\n",
       "      <td>0.000000</td>\n",
       "      <td>0.00000</td>\n",
       "      <td>0.000000</td>\n",
       "      <td>...</td>\n",
       "      <td>-81154.78</td>\n",
       "      <td>-70202.47</td>\n",
       "      <td>-58321.840</td>\n",
       "      <td>-44864.54</td>\n",
       "      <td>-32221.10</td>\n",
       "      <td>-20228.65</td>\n",
       "      <td>-11038.300</td>\n",
       "      <td>-4301.394</td>\n",
       "      <td>-336.3169</td>\n",
       "      <td>1674.353</td>\n",
       "    </tr>\n",
       "    <tr>\n",
       "      <th>3498</th>\n",
       "      <td>0.0</td>\n",
       "      <td>0.0</td>\n",
       "      <td>0.0</td>\n",
       "      <td>0.0</td>\n",
       "      <td>0.000000</td>\n",
       "      <td>0.000000e+00</td>\n",
       "      <td>0.000000</td>\n",
       "      <td>0.000000</td>\n",
       "      <td>0.00000</td>\n",
       "      <td>0.000000</td>\n",
       "      <td>...</td>\n",
       "      <td>47619.34</td>\n",
       "      <td>79672.45</td>\n",
       "      <td>106541.400</td>\n",
       "      <td>131749.50</td>\n",
       "      <td>156358.20</td>\n",
       "      <td>186301.00</td>\n",
       "      <td>219795.300</td>\n",
       "      <td>254941.400</td>\n",
       "      <td>282359.3000</td>\n",
       "      <td>297845.400</td>\n",
       "    </tr>\n",
       "    <tr>\n",
       "      <th>3499</th>\n",
       "      <td>0.0</td>\n",
       "      <td>0.0</td>\n",
       "      <td>0.0</td>\n",
       "      <td>0.0</td>\n",
       "      <td>0.000000</td>\n",
       "      <td>0.000000e+00</td>\n",
       "      <td>0.000000</td>\n",
       "      <td>0.000000</td>\n",
       "      <td>0.00000</td>\n",
       "      <td>0.000000</td>\n",
       "      <td>...</td>\n",
       "      <td>-104443.60</td>\n",
       "      <td>-54913.30</td>\n",
       "      <td>-9321.165</td>\n",
       "      <td>35347.46</td>\n",
       "      <td>72011.19</td>\n",
       "      <td>103566.80</td>\n",
       "      <td>125860.600</td>\n",
       "      <td>139689.600</td>\n",
       "      <td>142507.4000</td>\n",
       "      <td>134989.600</td>\n",
       "    </tr>\n",
       "  </tbody>\n",
       "</table>\n",
       "<p>3500 rows × 1500 columns</p>\n",
       "</div>"
      ],
      "text/plain": [
       "      S1_0  S1_4  S1_8  S1_12     S1_16         S1_20     S1_24     S1_28  \\\n",
       "id                                                                          \n",
       "0      0.0   0.0   0.0    0.0  0.000000  0.000000e+00  0.000000  0.000000   \n",
       "1      0.0   0.0   0.0    0.0  0.000000  0.000000e+00  0.000000  0.000000   \n",
       "2      0.0   0.0   0.0    0.0 -0.000092 -6.843146e-03 -0.155149 -3.675771   \n",
       "3      0.0   0.0   0.0    0.0  0.000000  0.000000e+00  0.000000  0.000000   \n",
       "4      0.0   0.0   0.0    0.0  0.000000  3.230998e-07  0.000015 -0.000178   \n",
       "...    ...   ...   ...    ...       ...           ...       ...       ...   \n",
       "3495   0.0   0.0   0.0    0.0  0.000000  0.000000e+00  0.000000  0.000000   \n",
       "3496   0.0   0.0   0.0    0.0  0.000000  0.000000e+00  0.000000  0.000000   \n",
       "3497   0.0   0.0   0.0    0.0  0.000000  0.000000e+00  0.000000  0.000000   \n",
       "3498   0.0   0.0   0.0    0.0  0.000000  0.000000e+00  0.000000  0.000000   \n",
       "3499   0.0   0.0   0.0    0.0  0.000000  0.000000e+00  0.000000  0.000000   \n",
       "\n",
       "         S1_32      S1_36  ...    S4_1460    S4_1464     S4_1468    S4_1472  \\\n",
       "id                         ...                                                \n",
       "0      0.00000   0.000000  ...  182471.50  191195.90  189541.300  175185.20   \n",
       "1      0.00000   0.000000  ... -714642.40 -784526.90 -810421.700 -794061.90   \n",
       "2    -25.13809 -99.968380  ...  -47886.90  -17237.54    5774.739   21298.59   \n",
       "3      0.00000   0.000000  ...  170625.80  152155.30  128479.700   98125.52   \n",
       "4     -0.01209  -0.629234  ...  242069.10  254386.80  257263.500  249739.50   \n",
       "...        ...        ...  ...        ...        ...         ...        ...   \n",
       "3495   0.00000   0.000000  ... -190023.90 -247566.20 -288057.100 -316379.30   \n",
       "3496   0.00000   0.000000  ... -155721.40 -150691.80 -141373.500 -127431.20   \n",
       "3497   0.00000   0.000000  ...  -81154.78  -70202.47  -58321.840  -44864.54   \n",
       "3498   0.00000   0.000000  ...   47619.34   79672.45  106541.400  131749.50   \n",
       "3499   0.00000   0.000000  ... -104443.60  -54913.30   -9321.165   35347.46   \n",
       "\n",
       "        S4_1475    S4_1480     S4_1484     S4_1488      S4_1492     S4_1496  \n",
       "id                                                                           \n",
       "0     147667.70  106792.60   58248.420    3015.649  -49795.1400  -95687.360  \n",
       "1    -735795.10 -641504.60 -528058.800 -394603.000 -246912.0000  -75997.950  \n",
       "2      26430.76   23816.36   15415.150    2599.393  -12329.6000  -27459.080  \n",
       "3      65940.75   31120.66   -1469.299  -32862.860  -60362.7700  -84775.410  \n",
       "4     229809.80  196475.00  153669.900  102289.900   49481.1200   -3115.911  \n",
       "...         ...        ...         ...         ...          ...         ...  \n",
       "3495 -328605.30 -328016.50 -315775.200 -293865.800 -265466.3000 -232333.300  \n",
       "3496 -110918.50  -91823.54  -73415.460  -55572.000  -39766.0200  -25087.010  \n",
       "3497  -32221.10  -20228.65  -11038.300   -4301.394    -336.3169    1674.353  \n",
       "3498  156358.20  186301.00  219795.300  254941.400  282359.3000  297845.400  \n",
       "3499   72011.19  103566.80  125860.600  139689.600  142507.4000  134989.600  \n",
       "\n",
       "[3500 rows x 1500 columns]"
      ]
     },
     "execution_count": 278,
     "metadata": {},
     "output_type": "execute_result"
    }
   ],
   "source": [
    "df"
   ]
  },
  {
   "cell_type": "markdown",
   "metadata": {},
   "source": [
    "각 센서별로 dataframe을 따로 만들어 줍니다"
   ]
  },
  {
   "cell_type": "code",
   "execution_count": 279,
   "metadata": {},
   "outputs": [],
   "source": [
    "df_S1 = df.iloc[:,np.where(df.columns.str.find('S1') == 0)[0]]\n",
    "df_S2 = df.iloc[:,np.where(df.columns.str.find('S2') == 0)[0]]\n",
    "df_S3 = df.iloc[:,np.where(df.columns.str.find('S3') == 0)[0]]\n",
    "df_S4 = df.iloc[:,np.where(df.columns.str.find('S4') == 0)[0]]"
   ]
  },
  {
   "cell_type": "code",
   "execution_count": 280,
   "metadata": {},
   "outputs": [],
   "source": [
    "def first_arrive_time(df_S1):\n",
    "    value = []\n",
    "    for i in range(0, len(df_S1)):\n",
    "        value.append(np.where((df_S1.loc[i] != 0) == True)[0][0])\n",
    "    \n",
    "    return value"
   ]
  },
  {
   "cell_type": "markdown",
   "metadata": {},
   "source": [
    "각 센서별로 dataframe을 만들고, 샘플마다 제일 처음 도달한 센서, 마지막으로 도달한 센서를 추출하고 \\\n",
    "4개의 센서중 가장 최초로 파장이 도달한 시간을 추출합니다 \\\n",
    "통계량의 경우 4개의 센서중 맨 처음 파장이 닿은 센서만을 사용하였습니다."
   ]
  },
  {
   "cell_type": "code",
   "execution_count": 281,
   "metadata": {},
   "outputs": [],
   "source": [
    "df_S1_time = first_arrive_time(df_S1)\n",
    "df_S2_time = first_arrive_time(df_S2)\n",
    "df_S3_time = first_arrive_time(df_S3)\n",
    "df_S4_time = first_arrive_time(df_S4)"
   ]
  },
  {
   "cell_type": "code",
   "execution_count": 282,
   "metadata": {},
   "outputs": [],
   "source": [
    "temp = pd.DataFrame({'S1_arr_time':df_S1_time,'S2_arr_time':df_S2_time, 'S3_arr_time':df_S3_time,'S4_arr_time':df_S4_time})\n",
    "temp.index = df.index"
   ]
  },
  {
   "cell_type": "code",
   "execution_count": 283,
   "metadata": {},
   "outputs": [],
   "source": [
    "def get_first_sensor(temp):\n",
    "    value = []\n",
    "    for i in range(0, len(temp)):\n",
    "        value.append(int(temp.iloc[i,0:4].astype('int').argmin()[1]))\n",
    "    return value\n",
    "\n",
    "def get_last_sensor(temp):\n",
    "    value = []\n",
    "    for i in range(0, len(temp)):\n",
    "        value.append(int(temp.iloc[i,0:4].astype('int').argmax()[1]))\n",
    "    return value\n",
    "\n",
    "temp['first'] = get_first_sensor(temp)\n",
    "temp['last'] = get_last_sensor(temp)\n",
    "temp['time'] = temp.iloc[:,0:4].min(axis=1)"
   ]
  },
  {
   "cell_type": "code",
   "execution_count": 284,
   "metadata": {},
   "outputs": [
    {
     "data": {
      "text/html": [
       "<div>\n",
       "<style scoped>\n",
       "    .dataframe tbody tr th:only-of-type {\n",
       "        vertical-align: middle;\n",
       "    }\n",
       "\n",
       "    .dataframe tbody tr th {\n",
       "        vertical-align: top;\n",
       "    }\n",
       "\n",
       "    .dataframe thead th {\n",
       "        text-align: right;\n",
       "    }\n",
       "</style>\n",
       "<table border=\"1\" class=\"dataframe\">\n",
       "  <thead>\n",
       "    <tr style=\"text-align: right;\">\n",
       "      <th></th>\n",
       "      <th>S1_arr_time</th>\n",
       "      <th>S2_arr_time</th>\n",
       "      <th>S3_arr_time</th>\n",
       "      <th>S4_arr_time</th>\n",
       "      <th>first</th>\n",
       "      <th>last</th>\n",
       "      <th>time</th>\n",
       "    </tr>\n",
       "    <tr>\n",
       "      <th>id</th>\n",
       "      <th></th>\n",
       "      <th></th>\n",
       "      <th></th>\n",
       "      <th></th>\n",
       "      <th></th>\n",
       "      <th></th>\n",
       "      <th></th>\n",
       "    </tr>\n",
       "  </thead>\n",
       "  <tbody>\n",
       "    <tr>\n",
       "      <th>0</th>\n",
       "      <td>10</td>\n",
       "      <td>10</td>\n",
       "      <td>28</td>\n",
       "      <td>22</td>\n",
       "      <td>1</td>\n",
       "      <td>3</td>\n",
       "      <td>10</td>\n",
       "    </tr>\n",
       "    <tr>\n",
       "      <th>1</th>\n",
       "      <td>27</td>\n",
       "      <td>5</td>\n",
       "      <td>18</td>\n",
       "      <td>14</td>\n",
       "      <td>2</td>\n",
       "      <td>1</td>\n",
       "      <td>5</td>\n",
       "    </tr>\n",
       "    <tr>\n",
       "      <th>2</th>\n",
       "      <td>4</td>\n",
       "      <td>22</td>\n",
       "      <td>22</td>\n",
       "      <td>17</td>\n",
       "      <td>1</td>\n",
       "      <td>2</td>\n",
       "      <td>4</td>\n",
       "    </tr>\n",
       "    <tr>\n",
       "      <th>3</th>\n",
       "      <td>19</td>\n",
       "      <td>8</td>\n",
       "      <td>18</td>\n",
       "      <td>12</td>\n",
       "      <td>2</td>\n",
       "      <td>1</td>\n",
       "      <td>8</td>\n",
       "    </tr>\n",
       "    <tr>\n",
       "      <th>4</th>\n",
       "      <td>5</td>\n",
       "      <td>23</td>\n",
       "      <td>20</td>\n",
       "      <td>14</td>\n",
       "      <td>1</td>\n",
       "      <td>2</td>\n",
       "      <td>5</td>\n",
       "    </tr>\n",
       "    <tr>\n",
       "      <th>...</th>\n",
       "      <td>...</td>\n",
       "      <td>...</td>\n",
       "      <td>...</td>\n",
       "      <td>...</td>\n",
       "      <td>...</td>\n",
       "      <td>...</td>\n",
       "      <td>...</td>\n",
       "    </tr>\n",
       "    <tr>\n",
       "      <th>3495</th>\n",
       "      <td>16</td>\n",
       "      <td>31</td>\n",
       "      <td>7</td>\n",
       "      <td>5</td>\n",
       "      <td>4</td>\n",
       "      <td>2</td>\n",
       "      <td>5</td>\n",
       "    </tr>\n",
       "    <tr>\n",
       "      <th>3496</th>\n",
       "      <td>18</td>\n",
       "      <td>14</td>\n",
       "      <td>9</td>\n",
       "      <td>5</td>\n",
       "      <td>4</td>\n",
       "      <td>1</td>\n",
       "      <td>5</td>\n",
       "    </tr>\n",
       "    <tr>\n",
       "      <th>3497</th>\n",
       "      <td>24</td>\n",
       "      <td>2</td>\n",
       "      <td>28</td>\n",
       "      <td>21</td>\n",
       "      <td>2</td>\n",
       "      <td>3</td>\n",
       "      <td>2</td>\n",
       "    </tr>\n",
       "    <tr>\n",
       "      <th>3498</th>\n",
       "      <td>19</td>\n",
       "      <td>5</td>\n",
       "      <td>30</td>\n",
       "      <td>22</td>\n",
       "      <td>2</td>\n",
       "      <td>3</td>\n",
       "      <td>5</td>\n",
       "    </tr>\n",
       "    <tr>\n",
       "      <th>3499</th>\n",
       "      <td>21</td>\n",
       "      <td>18</td>\n",
       "      <td>5</td>\n",
       "      <td>2</td>\n",
       "      <td>4</td>\n",
       "      <td>1</td>\n",
       "      <td>2</td>\n",
       "    </tr>\n",
       "  </tbody>\n",
       "</table>\n",
       "<p>3500 rows × 7 columns</p>\n",
       "</div>"
      ],
      "text/plain": [
       "      S1_arr_time  S2_arr_time  S3_arr_time  S4_arr_time  first  last  time\n",
       "id                                                                         \n",
       "0              10           10           28           22      1     3    10\n",
       "1              27            5           18           14      2     1     5\n",
       "2               4           22           22           17      1     2     4\n",
       "3              19            8           18           12      2     1     8\n",
       "4               5           23           20           14      1     2     5\n",
       "...           ...          ...          ...          ...    ...   ...   ...\n",
       "3495           16           31            7            5      4     2     5\n",
       "3496           18           14            9            5      4     1     5\n",
       "3497           24            2           28           21      2     3     2\n",
       "3498           19            5           30           22      2     3     5\n",
       "3499           21           18            5            2      4     1     2\n",
       "\n",
       "[3500 rows x 7 columns]"
      ]
     },
     "execution_count": 284,
     "metadata": {},
     "output_type": "execute_result"
    }
   ],
   "source": [
    "temp"
   ]
  },
  {
   "cell_type": "markdown",
   "metadata": {},
   "source": [
    "stride를 3으로 잡고, df.diff(window=3)을 시행해줍니다"
   ]
  },
  {
   "cell_type": "code",
   "execution_count": 285,
   "metadata": {},
   "outputs": [],
   "source": [
    "from sklearn.preprocessing import MinMaxScaler\n",
    "from sklearn.preprocessing import StandardScaler\n",
    "minmax_scaler = MinMaxScaler()\n",
    "std_scaler = StandardScaler()"
   ]
  },
  {
   "cell_type": "code",
   "execution_count": 286,
   "metadata": {},
   "outputs": [],
   "source": [
    "def subtract_each_col(df, stride):\n",
    "    temp = df.copy()\n",
    "    for i in range(stride, len(temp.columns)):\n",
    "        temp[temp.columns[i-stride] + \"-\" + temp.columns[i]] = temp[temp.columns[i-stride]]-temp[temp.columns[i]]\n",
    "        \n",
    "    return temp.iloc[:,len(df.columns):]"
   ]
  },
  {
   "cell_type": "code",
   "execution_count": 287,
   "metadata": {},
   "outputs": [],
   "source": [
    "df2_S1 = df.iloc[:,np.where(df.columns.str.find('S1') == 0)[0]]\n",
    "df2_S2 = df.iloc[:,np.where(df.columns.str.find('S2') == 0)[0]]\n",
    "df2_S3 = df.iloc[:,np.where(df.columns.str.find('S3') == 0)[0]]\n",
    "df2_S4 = df.iloc[:,np.where(df.columns.str.find('S4') == 0)[0]]\n",
    "\n",
    "df2_S1 = subtract_each_col(df_S1,3)\n",
    "df2_S2 = subtract_each_col(df_S2,3)\n",
    "df2_S3 = subtract_each_col(df_S3,3)\n",
    "df2_S4 = subtract_each_col(df_S4,3)\n"
   ]
  },
  {
   "cell_type": "markdown",
   "metadata": {},
   "source": [
    "df_MV에, 추출한 통계량들을 넣어 줍니다"
   ]
  },
  {
   "cell_type": "code",
   "execution_count": 288,
   "metadata": {},
   "outputs": [],
   "source": [
    "df_MV = temp.copy()"
   ]
  },
  {
   "cell_type": "code",
   "execution_count": 289,
   "metadata": {},
   "outputs": [],
   "source": [
    "first_time = []\n",
    "for i in range(0, len(temp)):\n",
    "    index = temp['first'][i]\n",
    "    first_time.append(temp.iloc[i,index-1])\n",
    "    \n",
    "df_MV['first_time'] = first_time"
   ]
  },
  {
   "cell_type": "markdown",
   "metadata": {},
   "source": [
    "df_temp1에는, 처음 닿은 센서값을 넣고 \\\n",
    "df_temp2에는, 처음 닿은 센서값의 기울기를 넣어줍니다"
   ]
  },
  {
   "cell_type": "code",
   "execution_count": 290,
   "metadata": {},
   "outputs": [],
   "source": [
    "df_temp1 = df_S1.copy()\n",
    "df_temp1.columns = ['first_signal_' + str(i) for i in range(0, 375)]\n",
    "\n",
    "df_temp2 = df_S1.copy().iloc[:,0:372]\n",
    "df_temp2.columns = ['first_signal_slope_' + str(i) for i in range(0, 372)]"
   ]
  },
  {
   "cell_type": "code",
   "execution_count": 291,
   "metadata": {},
   "outputs": [],
   "source": [
    "for i in range(0, 3500):\n",
    "    exec(\"temp_temp1 = \" + \"df_S\" + str(temp['first'][i]))\n",
    "    exec(\"temp_temp2 = \" + \"df2_S\" + str(temp['first'][i]))\n",
    "    df_temp1.loc[i] = np.array(temp_temp1.loc[i])\n",
    "    df_temp2.loc[i] = np.array(temp_temp2.loc[i])"
   ]
  },
  {
   "cell_type": "markdown",
   "metadata": {},
   "source": [
    "최초로 도착한 센서값을 sample별로 정규화한 이후, 기울기를 넣어 줍니다"
   ]
  },
  {
   "cell_type": "code",
   "execution_count": 292,
   "metadata": {},
   "outputs": [],
   "source": [
    "std_scaler.fit(df_temp1.T)\n",
    "df_temp1_scale = pd.DataFrame(std_scaler.transform(df_temp1.T)).T"
   ]
  },
  {
   "cell_type": "code",
   "execution_count": 293,
   "metadata": {},
   "outputs": [],
   "source": [
    "df_temp1_scale.columns = df_temp1.columns\n",
    "df_temp1_scale.index = df_temp1.index\n",
    "ttt = subtract_each_col(df_temp1_scale,5)"
   ]
  },
  {
   "cell_type": "code",
   "execution_count": 294,
   "metadata": {},
   "outputs": [],
   "source": [
    "df_MV['first_stdsignal_slope_max-min'] = ttt.max(axis=1) - ttt.min(axis=1)\n",
    "\n",
    "df_MV['first_stdsignal_slope_max'] = ttt.max(axis=1)\n",
    "df_MV['first_stdsignal_slope_abs_max'] = abs(ttt).max(axis=1)\n",
    "df_MV['first_stdsignal_slope_var'] = ttt.var(axis=1)\n",
    "df_MV['first_stdsignal_slope_abs_mean'] = abs(ttt).mean(axis=1)\n"
   ]
  },
  {
   "cell_type": "code",
   "execution_count": 295,
   "metadata": {},
   "outputs": [],
   "source": [
    "df_MV['first_signal_max'] = df_temp1.max(axis=1)\n",
    "df_MV['first_signal_abs_max'] = abs(df_temp1).max(axis=1)\n",
    "df_MV['first_signal_slope_max'] = df_temp2.max(axis=1)\n",
    "df_MV['first_signal_abs_slope_max'] = abs(df_temp2).max(axis=1)\n",
    "\n",
    "df_MV['first_signal_slope_max-min'] = df_temp2.max(axis=1) - df_temp2.min(axis=1)\n",
    "\n",
    "df_MV['first_signal_var'] = df_temp1.var(axis=1)\n",
    "df_MV['first_signal_slope_var'] = df_temp2.var(axis=1)"
   ]
  },
  {
   "cell_type": "markdown",
   "metadata": {},
   "source": [
    "기울기의 max - min, 정규화한 이후 기울기의 max - min이 각각 V,M과 깊은 관련이 있음을 알 수 있습니다."
   ]
  },
  {
   "cell_type": "code",
   "execution_count": 296,
   "metadata": {},
   "outputs": [
    {
     "data": {
      "text/plain": [
       "<matplotlib.collections.PathCollection at 0x1cfe9205d30>"
      ]
     },
     "execution_count": 296,
     "metadata": {},
     "output_type": "execute_result"
    },
    {
     "data": {
      "image/png": "[encoded data removed]",
      "text/plain": [
       "<Figure size 432x288 with 1 Axes>"
      ]
     },
     "metadata": {
      "needs_background": "light"
     },
     "output_type": "display_data"
    }
   ],
   "source": [
    "corr=[]\n",
    "for i in range(0,10):\n",
    "    index = df_MV[df_MV['first_time'] == i].index\n",
    "    index = index[index <= 2800]\n",
    "    corr.append(np.corrcoef(df_MV.loc[index,'first_signal_slope_max-min'], y_train['V'][index])[0][1])\n",
    "    \n",
    "plt.scatter(range(0,10), corr)"
   ]
  },
  {
   "cell_type": "code",
   "execution_count": 297,
   "metadata": {},
   "outputs": [
    {
     "data": {
      "text/plain": [
       "<matplotlib.collections.PathCollection at 0x1cfdb5059e8>"
      ]
     },
     "execution_count": 297,
     "metadata": {},
     "output_type": "execute_result"
    },
    {
     "data": {
      "image/png": "[encoded data removed]",
      "text/plain": [
       "<Figure size 432x288 with 1 Axes>"
      ]
     },
     "metadata": {
      "needs_background": "light"
     },
     "output_type": "display_data"
    }
   ],
   "source": [
    "corr=[]\n",
    "for i in range(0,10):\n",
    "    index = df_MV[df_MV['first_time'] == i].index\n",
    "    index = index[index <= 2800]\n",
    "    corr.append(np.corrcoef(df_MV.loc[index,'first_stdsignal_slope_max-min'], y_train['M'][index])[0][1])\n",
    "    \n",
    "plt.scatter(range(0,10), corr)"
   ]
  },
  {
   "cell_type": "markdown",
   "metadata": {},
   "source": [
    "M,V를 예측하기 위해 만든 변수들에서 제곱..5제곱..(1/2)제곱..(1/5)제곱 등을 만들어줍니다"
   ]
  },
  {
   "cell_type": "code",
   "execution_count": 298,
   "metadata": {},
   "outputs": [],
   "source": [
    "df_MV_temp = df_MV.iloc[:,7:].copy()"
   ]
  },
  {
   "cell_type": "code",
   "execution_count": 299,
   "metadata": {},
   "outputs": [],
   "source": [
    "df_MV_temp_2 = df_MV_temp**2\n",
    "df_MV_temp_2.columns = df_MV_temp.columns + \"_2\"\n",
    "\n",
    "df_MV_temp_3 = df_MV_temp**3\n",
    "df_MV_temp_3.columns = df_MV_temp.columns + \"_3\"\n",
    "\n",
    "df_MV_temp_4 = df_MV_temp**4\n",
    "df_MV_temp_4.columns = df_MV_temp.columns + \"_4\"\n",
    "\n",
    "df_MV_temp_5 = df_MV_temp**5\n",
    "df_MV_temp_5.columns = df_MV_temp.columns + \"_5\"\n",
    "\n",
    "\n",
    "\n",
    "df_MV_temp_12 = df_MV_temp**(1/2)\n",
    "df_MV_temp_12.columns = df_MV_temp.columns + \"_1/2\"\n",
    "\n",
    "df_MV_temp_13 = df_MV_temp**(1/3)\n",
    "df_MV_temp_13.columns = df_MV_temp.columns + \"_1/3\"\n",
    "\n",
    "df_MV_temp_14 = df_MV_temp**(1/4)\n",
    "df_MV_temp_14.columns = df_MV_temp.columns + \"_1/4\"\n",
    "\n",
    "df_MV_temp_15 = df_MV_temp**(1/5)\n",
    "df_MV_temp_15.columns = df_MV_temp.columns + \"_1/5\"\n",
    "\n",
    "\n",
    "df_MV_temp = pd.merge(df_MV_temp, df_MV_temp_2, on='id')\n",
    "df_MV_temp = pd.merge(df_MV_temp, df_MV_temp_3, on='id')\n",
    "df_MV_temp = pd.merge(df_MV_temp, df_MV_temp_4, on='id')\n",
    "df_MV_temp = pd.merge(df_MV_temp, df_MV_temp_5, on='id')\n",
    "\n",
    "\n",
    "df_MV_temp = pd.merge(df_MV_temp, df_MV_temp_12, on='id')\n",
    "df_MV_temp = pd.merge(df_MV_temp, df_MV_temp_13, on='id')\n",
    "df_MV_temp = pd.merge(df_MV_temp, df_MV_temp_14, on='id')\n",
    "df_MV_temp = pd.merge(df_MV_temp, df_MV_temp_15, on='id')"
   ]
  },
  {
   "cell_type": "markdown",
   "metadata": {},
   "source": [
    "X,Y를 예측할 때는 각 센서별 도착한 시간, 도착한 시간들의 차, 차의 절대값, 합만 사용합니다"
   ]
  },
  {
   "cell_type": "code",
   "execution_count": 300,
   "metadata": {},
   "outputs": [],
   "source": [
    "def subtract_each_col(temp):\n",
    "    temp2 = temp.copy()\n",
    "    for i in range(0, len(temp2.columns)-1):\n",
    "        for j in range(i+1, len(temp2.columns)):\n",
    "            temp[temp.columns[i] + \"-\" + temp.columns[j]] = temp2.iloc[:,i] - temp2.iloc[:,j]\n",
    "    \n",
    "    return temp.iloc[:,len(temp2.columns):]\n",
    "\n",
    "def plus_each_col(temp):\n",
    "    temp5 = temp.copy()\n",
    "    for i in range(0, len(temp5.columns)-1):\n",
    "        for j in range(i+1, len(temp5.columns)):\n",
    "            temp[temp.columns[i] + \"+\" + temp.columns[j]] = temp5.iloc[:,i] + temp5.iloc[:,j]\n",
    "            \n",
    "    return temp.iloc[:,len(temp5.columns):]\n"
   ]
  },
  {
   "cell_type": "code",
   "execution_count": 301,
   "metadata": {},
   "outputs": [],
   "source": [
    "temp2 = temp.iloc[:,0:4].copy()"
   ]
  },
  {
   "cell_type": "code",
   "execution_count": 302,
   "metadata": {},
   "outputs": [],
   "source": [
    "tt = temp2.copy()\n",
    "subtract = subtract_each_col(tt)\n",
    "\n",
    "tt = temp2.copy()\n",
    "plus = plus_each_col(tt)"
   ]
  },
  {
   "cell_type": "code",
   "execution_count": 303,
   "metadata": {},
   "outputs": [],
   "source": [
    "X_df = pd.merge(temp, subtract, on='id')\n",
    "X_df = pd.merge(X_df, abs(subtract), on='id')\n",
    "X_df = pd.merge(X_df, plus, on='id')"
   ]
  },
  {
   "cell_type": "code",
   "execution_count": 304,
   "metadata": {},
   "outputs": [],
   "source": [
    "X_df['first_time'] = temp['time']\n",
    "X_df['first'] = temp['first']"
   ]
  },
  {
   "cell_type": "code",
   "execution_count": 305,
   "metadata": {},
   "outputs": [],
   "source": [
    "X_df= X_df.dropna(axis=1) "
   ]
  },
  {
   "cell_type": "markdown",
   "metadata": {},
   "source": [
    "## 4. 변수 선택 및 모델 구축\n",
    "## Feature Engineering & Initial Modeling  "
   ]
  },
  {
   "cell_type": "markdown",
   "metadata": {},
   "source": [
    "## 5. 모델 학습 및 검증\n",
    "## Model Tuning & Evaluation"
   ]
  },
  {
   "cell_type": "markdown",
   "metadata": {},
   "source": [
    "# 1. Lasso, RF"
   ]
  },
  {
   "cell_type": "code",
   "execution_count": 306,
   "metadata": {},
   "outputs": [],
   "source": [
    "def E22(y_true, y_pred):\n",
    "    '''\n",
    "    y_true: dataframe with true values of X,Y,M,V\n",
    "    y_pred: dataframe with pred values of X,Y,M,V\n",
    "    \n",
    "    return: sum of mass and velocity's mean squared percentage error\n",
    "    '''\n",
    "    \n",
    "    _t, _p = np.array(y_true)[:,2:], np.array(y_pred)[:,2:]\n",
    "    \n",
    "    \n",
    "    return np.mean(np.sum(np.square((_t - _p) / (_t + 1e-06)), axis = 1))\n",
    "\n",
    "def E11(y_true, y_pred):\n",
    "    '''\n",
    "    y_true: dataframe with true values of X,Y,M,V\n",
    "    y_pred: dataframe with pred values of X,Y,M,V\n",
    "    \n",
    "    return: distance error normalized with 2e+04\n",
    "    '''\n",
    "    \n",
    "    _t, _p = np.array(y_true)[:,:2], np.array(y_pred)[:,:2]\n",
    "    \n",
    "    return np.mean(np.sum(np.square(_t - _p), axis = 1) / 2e+04)"
   ]
  },
  {
   "cell_type": "markdown",
   "metadata": {},
   "source": [
    "# Lasso _ V "
   ]
  },
  {
   "cell_type": "code",
   "execution_count": 331,
   "metadata": {},
   "outputs": [],
   "source": [
    "y_test = pd.read_csv(\"sample_submission.csv\", index_col=0)"
   ]
  },
  {
   "cell_type": "code",
   "execution_count": 332,
   "metadata": {},
   "outputs": [],
   "source": [
    "y_val_save = y_train.copy()\n",
    "y_val_save.iloc[:,:] = 0"
   ]
  },
  {
   "cell_type": "code",
   "execution_count": 333,
   "metadata": {},
   "outputs": [],
   "source": [
    "from sklearn import linear_model\n",
    "from sklearn.model_selection import GroupKFold\n",
    "\n",
    "num_fold=5\n",
    "score = []\n",
    "for Time in [1,2,3,4,5,6,7,8,9,10,11]:\n",
    "    T = Time\n",
    "    t1 = df_MV_temp[df_MV_temp['first_time'] == T]\n",
    "    t1 = t1.drop(['first_time'], axis=1)\n",
    "\n",
    "    X_train_temp = t1.loc[t1.index < 2800]\n",
    "    X_test_temp = t1.loc[t1.index >= 2800]\n",
    "\n",
    "    y_train_temp = y_train.loc[t1.index]\n",
    "    y_train_temp = y_train_temp[y_train_temp.index < 2800]\n",
    "    \n",
    "    kf = KFold(n_splits=num_fold, shuffle=True, random_state=777)\n",
    "    for n_fold, (trn_idx, val_idx) in enumerate(kf.split(X_train_temp)):\n",
    "        trn_x, trn_y = X_train_temp.iloc[trn_idx], y_train_temp.iloc[trn_idx]\n",
    "        val_x, val_y = X_train_temp.iloc[val_idx], y_train_temp.iloc[val_idx]\n",
    "        \n",
    "        #model = RandomForestRegressor(n_jobs=-1, random_state=777, n_estimators=1000, max_features=0.7)\n",
    "        clf = linear_model.Lasso(alpha=0, random_state=777)\n",
    "        clf.fit(trn_x, trn_y['V'])\n",
    "        y_pred = clf.predict(val_x)\n",
    "        #print(abs(val_y['V'] - y_pred).mean())\n",
    "        score.append(abs(val_y['V'] - y_pred).mean())\n",
    "        y_test.loc[X_test_temp.index,'V'] += clf.predict(X_test_temp)/num_fold\n",
    "        y_val_save.loc[val_x.index,'V'] = y_pred\n",
    "#print(E22(val_y, y_pred))"
   ]
  },
  {
   "cell_type": "code",
   "execution_count": 334,
   "metadata": {},
   "outputs": [
    {
     "name": "stdout",
     "output_type": "stream",
     "text": [
      "0.006277759338198963\n"
     ]
    }
   ],
   "source": [
    "print(np.array(score).mean())\n",
    "V_value = y_val_save['V'].append(y_test['V'])"
   ]
  },
  {
   "cell_type": "markdown",
   "metadata": {},
   "source": [
    "# Lasso _ M\n",
    "M의 경우, (4개의 센서중 파장이 먼저 닿은 센서의 적분값 / V)와 아주 깊은 관련이 있습니다.\\\n",
    "하지만, 센서에 파장이 언제 도착했느냐에 따라, 어느 Time까지의 적분값이 가장 M과 관련이 깊은지가 다르기 때문에 \\\n",
    "도착한 시간에 따라 다른 시간까지의 적분값을 예측 V로 나눠 변수로 사용하였습니다.\n"
   ]
  },
  {
   "cell_type": "code",
   "execution_count": 335,
   "metadata": {},
   "outputs": [],
   "source": [
    "score = []\n",
    "wow = []\n",
    "for Time in [1,2,3,4,5,6,7,8,9,10,11]:\n",
    "    T = Time\n",
    "    \n",
    "    df_temp1_abs_cumsum = abs(df_temp1).cumsum(axis=1)\n",
    "\n",
    "    index = temp[(temp['time'] == Time)].index\n",
    "    index = index[index<2800]\n",
    "    max_corr = []\n",
    "    for col in df_temp1_abs_cumsum.columns:\n",
    "        max_corr.append(np.corrcoef(df_temp1_abs_cumsum.loc[index][col]/y_train.loc[index,'V'], y_train.loc[index,'M'])[0][1])\n",
    "    \n",
    "    \n",
    "    wow.append(np.array(max_corr)[~np.isnan(np.array(max_corr))].max())\n",
    "    \n",
    "    \n",
    "    max_corr = [0 if x != x else x for x in max_corr]\n",
    "    col = df_temp1.columns[np.array(max_corr).argmax()]\n",
    "    \n",
    "    index = temp[(temp['time'] == Time)].index\n",
    "    magic_col1 = df_temp1_abs_cumsum.loc[index, col]/V_value.loc[index]      \n",
    "    magic_col2 = df_temp1_abs_cumsum.loc[index, col]/V_value.loc[index]**(1/2)\n",
    "    magic_col3 = df_temp1_abs_cumsum.loc[index, col]/V_value.loc[index]**2\n",
    "    magic_col4 = df_temp1_abs_cumsum.loc[index, col]/V_value.loc[index]**(1/3)\n",
    "    magic_col5 = df_temp1_abs_cumsum.loc[index, col]/V_value.loc[index]**3\n",
    "    magic_col6 = df_temp1_abs_cumsum.loc[index, col]/V_value.loc[index]**(1/4)\n",
    "    magic_col7 = df_temp1_abs_cumsum.loc[index, col]/V_value.loc[index]**4\n",
    "    \n",
    "    t1 = df_MV_temp[df_MV_temp['first_time'] == T]\n",
    "    t1 = t1.drop(['first_time'], axis=1)\n",
    "    \n",
    "    t1['V'] = V_value\n",
    "    t1['magic_col1'] = np.array(magic_col1)\n",
    "    t1['magic_col1_2'] = np.array(magic_col1)**2\n",
    "    t1['magic_col1_1/2'] = np.array(magic_col1)**(1/2)\n",
    "    \n",
    "    t1['magic_col2'] = np.array(magic_col2)\n",
    "    t1['magic_col2_2'] = np.array(magic_col2)**2\n",
    "    t1['magic_col2_1/2'] = np.array(magic_col2)**(1/2)\n",
    "    \n",
    "    t1['magic_col3'] = np.array(magic_col3)\n",
    "    t1['magic_col3_2'] = np.array(magic_col3)**2\n",
    "    t1['magic_col3_1/2'] = np.array(magic_col3)**(1/2)\n",
    "    \n",
    "    t1['magic_col4'] = np.array(magic_col4)\n",
    "    t1['magic_col4_2'] = np.array(magic_col4)**2\n",
    "    t1['magic_col4_1/2'] = np.array(magic_col4)**(1/2)\n",
    "    \n",
    "    t1['magic_col5'] = np.array(magic_col5)\n",
    "    t1['magic_col5_2'] = np.array(magic_col5)**2\n",
    "    t1['magic_col5_1/2'] = np.array(magic_col5)**(1/2)\n",
    "    \n",
    "    t1['magic_col6'] = np.array(magic_col6)\n",
    "    t1['magic_col6_2'] = np.array(magic_col6)**2\n",
    "    t1['magic_col6_1/2'] = np.array(magic_col6)**(1/2)\n",
    "    \n",
    "    t1['magic_col7'] = np.array(magic_col7)\n",
    "    t1['magic_col7_2'] = np.array(magic_col7)**2\n",
    "    t1['magic_col7_1/2'] = np.array(magic_col7)**(1/2)\n",
    "    \n",
    "    X_train_temp = t1.loc[t1.index < 2800]\n",
    "    X_test_temp = t1.loc[t1.index >= 2800]\n",
    "\n",
    "    y_train_temp = y_train.loc[t1.index]\n",
    "    y_train_temp = y_train_temp[y_train_temp.index < 2800]\n",
    "    \n",
    "    kf = KFold(n_splits=num_fold, shuffle=True, random_state=777)\n",
    "    for n_fold, (trn_idx, val_idx) in enumerate(kf.split(X_train_temp)):\n",
    "        trn_x, trn_y = X_train_temp.iloc[trn_idx], y_train_temp.iloc[trn_idx]\n",
    "        val_x, val_y = X_train_temp.iloc[val_idx], y_train_temp.iloc[val_idx]\n",
    "        \n",
    "        clf = linear_model.Lasso(alpha=0, random_state=777)\n",
    "        clf.fit(trn_x, trn_y['M'])\n",
    "        y_pred = clf.predict(val_x)\n",
    "        #print(abs(val_y['V'] - y_pred).mean())\n",
    "        score.append(abs(val_y['M'] - y_pred).mean())\n",
    "        y_test.loc[X_test_temp.index,'M'] += clf.predict(X_test_temp)/num_fold\n",
    "        y_val_save.loc[val_x.index,'M'] = y_pred"
   ]
  },
  {
   "cell_type": "code",
   "execution_count": 336,
   "metadata": {},
   "outputs": [
    {
     "data": {
      "text/plain": [
       "1.9559844205973747"
      ]
     },
     "execution_count": 336,
     "metadata": {},
     "output_type": "execute_result"
    }
   ],
   "source": [
    "np.array(score).mean()"
   ]
  },
  {
   "cell_type": "code",
   "execution_count": 337,
   "metadata": {},
   "outputs": [],
   "source": [
    "y_val_save['M'] = np.clip(y_val_save['M'], 25, 175)\n",
    "y_val_save['V'] = np.clip(y_val_save['V'], 0.2, 1)"
   ]
  },
  {
   "cell_type": "code",
   "execution_count": 338,
   "metadata": {},
   "outputs": [
    {
     "data": {
      "text/plain": [
       "0.000574906155846838"
      ]
     },
     "execution_count": 338,
     "metadata": {},
     "output_type": "execute_result"
    }
   ],
   "source": [
    "E22(y_train, y_val_save)*0.5"
   ]
  },
  {
   "cell_type": "markdown",
   "metadata": {},
   "source": [
    "센서에 파장이 도착한 시간에 따라, (적절한 시간까지의 적분값 / V)이 M과 깊은 관련이 있음을 알 수 있습니다."
   ]
  },
  {
   "cell_type": "code",
   "execution_count": 339,
   "metadata": {},
   "outputs": [
    {
     "data": {
      "text/plain": [
       "<matplotlib.collections.PathCollection at 0x1cf81df31d0>"
      ]
     },
     "execution_count": 339,
     "metadata": {},
     "output_type": "execute_result"
    },
    {
     "data": {
      "image/png": "[encoded data removed]",
      "text/plain": [
       "<Figure size 432x288 with 1 Axes>"
      ]
     },
     "metadata": {
      "needs_background": "light"
     },
     "output_type": "display_data"
    }
   ],
   "source": [
    "plt.scatter(range(0,11),wow)"
   ]
  },
  {
   "cell_type": "markdown",
   "metadata": {},
   "source": [
    "# check "
   ]
  },
  {
   "cell_type": "code",
   "execution_count": 340,
   "metadata": {},
   "outputs": [],
   "source": [
    "y_test['M'] = np.clip(y_test['M'], 1, 200)\n",
    "y_test['V'] = np.clip(y_test['V'], 0.01, 1)"
   ]
  },
  {
   "cell_type": "code",
   "execution_count": 341,
   "metadata": {},
   "outputs": [
    {
     "data": {
      "text/plain": [
       "<matplotlib.collections.PathCollection at 0x1cf81e44cf8>"
      ]
     },
     "execution_count": 341,
     "metadata": {},
     "output_type": "execute_result"
    },
    {
     "data": {
      "image/png": "[encoded data removed]",
      "text/plain": [
       "<Figure size 432x288 with 1 Axes>"
      ]
     },
     "metadata": {
      "needs_background": "light"
     },
     "output_type": "display_data"
    }
   ],
   "source": [
    "plt.scatter(y_test['M'], y_test['V'])"
   ]
  },
  {
   "cell_type": "markdown",
   "metadata": {},
   "source": [
    "# Lasso _ X, Y"
   ]
  },
  {
   "cell_type": "code",
   "execution_count": 342,
   "metadata": {},
   "outputs": [],
   "source": [
    "from sklearn import linear_model\n",
    "from sklearn import linear_model\n",
    "clf = linear_model.MultiTaskLasso(alpha=0)\n",
    "\n",
    "\n",
    "num_fold=5\n",
    "score = []\n",
    "for Time in [1,2,3,4,5,6,7,8,9,10,11]:\n",
    "    T = Time\n",
    "    t1 = X_df[X_df['first_time'] == T]\n",
    "    t1 = t1.drop(['first_time'], axis=1)\n",
    "\n",
    "    X_train_temp = t1.loc[t1.index < 2800]\n",
    "    X_test_temp = t1.loc[t1.index >= 2800]\n",
    "\n",
    "    y_train_temp = y_train.loc[t1.index]\n",
    "    y_train_temp = y_train_temp[y_train_temp.index < 2800]\n",
    "\n",
    "    kf = KFold(n_splits=num_fold, shuffle=True, random_state=777)\n",
    "    for n_fold, (trn_idx, val_idx) in enumerate(kf.split(X_train_temp)):\n",
    "        trn_x, trn_y = X_train_temp.iloc[trn_idx], y_train_temp.iloc[trn_idx]\n",
    "        val_x, val_y = X_train_temp.iloc[val_idx], y_train_temp.iloc[val_idx]\n",
    "        \n",
    "        #clf = linear_model.Lasso(alpha=0, normalize=True)\n",
    "        \n",
    "        clf = linear_model.MultiTaskLasso(alpha=0, random_state=777)\n",
    "        clf.fit(trn_x, trn_y[['X','Y']])\n",
    "        y_pred = clf.predict(val_x)\n",
    "        #print(abs(val_y['V'] - y_pred).mean())\n",
    "        #score.append(abs(val_y['X'] - y_pred).mean())\n",
    "        \n",
    "        y_test.loc[X_test_temp.index,'X'] += clf.predict(X_test_temp)[:,0]/num_fold\n",
    "        y_val_save.loc[val_x.index,'X'] = y_pred[:,0]\n",
    "        \n",
    "        y_test.loc[X_test_temp.index,'Y'] += clf.predict(X_test_temp)[:,1]/num_fold\n",
    "        y_val_save.loc[val_x.index,'Y'] = y_pred[:,1]\n",
    "#print(E22(val_y, y_pred))"
   ]
  },
  {
   "cell_type": "code",
   "execution_count": 343,
   "metadata": {},
   "outputs": [],
   "source": [
    "y_val_save['X'] = np.clip(y_val_save['X'], -400, 400)\n",
    "y_val_save['Y'] = np.clip(y_val_save['Y'], -400, 400)"
   ]
  },
  {
   "cell_type": "code",
   "execution_count": 344,
   "metadata": {},
   "outputs": [
    {
     "data": {
      "text/plain": [
       "0.01173017088724574"
      ]
     },
     "execution_count": 344,
     "metadata": {},
     "output_type": "execute_result"
    }
   ],
   "source": [
    "E11(y_train, y_val_save)"
   ]
  },
  {
   "cell_type": "code",
   "execution_count": 345,
   "metadata": {},
   "outputs": [
    {
     "data": {
      "text/plain": [
       "<matplotlib.collections.PathCollection at 0x1cf81ea8f60>"
      ]
     },
     "execution_count": 345,
     "metadata": {},
     "output_type": "execute_result"
    },
    {
     "data": {
      "image/png": "[encoded data removed]",
      "text/plain": [
       "<Figure size 432x288 with 1 Axes>"
      ]
     },
     "metadata": {
      "needs_background": "light"
     },
     "output_type": "display_data"
    }
   ],
   "source": [
    "plt.scatter(y_val_save['X'], y_val_save['Y'])"
   ]
  },
  {
   "cell_type": "code",
   "execution_count": 346,
   "metadata": {},
   "outputs": [],
   "source": [
    "y_test['X'] = np.clip(y_test['X'], -400, 400)\n",
    "y_test['Y'] = np.clip(y_test['Y'], -400, 400)"
   ]
  },
  {
   "cell_type": "code",
   "execution_count": 347,
   "metadata": {},
   "outputs": [
    {
     "data": {
      "text/plain": [
       "<matplotlib.collections.PathCollection at 0x1cf81f1e080>"
      ]
     },
     "execution_count": 347,
     "metadata": {},
     "output_type": "execute_result"
    },
    {
     "data": {
      "image/png": "[encoded data removed]",
      "text/plain": [
       "<Figure size 432x288 with 1 Axes>"
      ]
     },
     "metadata": {
      "needs_background": "light"
     },
     "output_type": "display_data"
    }
   ],
   "source": [
    "plt.scatter(y_test['X'], y_test['Y'])"
   ]
  },
  {
   "cell_type": "code",
   "execution_count": 348,
   "metadata": {},
   "outputs": [],
   "source": [
    "y_test_lasso = y_test.copy()"
   ]
  },
  {
   "cell_type": "markdown",
   "metadata": {},
   "source": [
    "# Random Forest _ X, Y"
   ]
  },
  {
   "cell_type": "code",
   "execution_count": 349,
   "metadata": {},
   "outputs": [],
   "source": [
    "y_test = pd.read_csv(\"sample_submission.csv\", index_col=0)"
   ]
  },
  {
   "cell_type": "code",
   "execution_count": 350,
   "metadata": {},
   "outputs": [],
   "source": [
    "y_val_save = y_train.copy()\n",
    "y_val_save.iloc[:,:] = 0"
   ]
  },
  {
   "cell_type": "code",
   "execution_count": 351,
   "metadata": {},
   "outputs": [
    {
     "name": "stdout",
     "output_type": "stream",
     "text": [
      "X    0.156607\n",
      "Y    0.302679\n",
      "dtype: float64\n",
      "0.0\n",
      "X    0.248571\n",
      "Y    0.295714\n",
      "dtype: float64\n",
      "0.0\n",
      "X    0.205179\n",
      "Y    0.318214\n",
      "dtype: float64\n",
      "0.0\n",
      "X    0.253571\n",
      "Y    0.322500\n",
      "dtype: float64\n",
      "0.0\n",
      "X    0.130893\n",
      "Y    0.209643\n",
      "dtype: float64\n",
      "0.0\n"
     ]
    }
   ],
   "source": [
    "import sklearn\n",
    "from sklearn.ensemble import RandomForestRegressor\n",
    "from sklearn.model_selection import GroupKFold\n",
    "\n",
    "model = RandomForestRegressor(n_jobs=-1, random_state=777, n_estimators=1000, max_features=0.7)\n",
    "\n",
    "y_train_temp = y_train[['X','Y']]\n",
    "X_train_temp = X_df.iloc[0:2800,:]\n",
    "X_test_temp = X_df.iloc[2800:,:]\n",
    "\n",
    "group_kfold = GroupKFold(n_splits=5)\n",
    "groups = y_train['X'].astype('str') + \"_\" + y_train['Y'].astype('str') + \\\n",
    "    \"_\" + y_train['M'].astype('str') + \"_\" + y_train['V'].astype('str') + \"_\" + df_MV_temp['first_time'][0:2800].astype('str')\n",
    "#groups = y_train['M'].astype('str') + \"_\" + y_train['V'].astype('str')\n",
    "group_kfold.get_n_splits(df_MV_temp, y_train_temp, groups)\n",
    "\n",
    "\n",
    "for n_fold, (trn_idx, val_idx) in enumerate(group_kfold.split(X_train_temp, y_train_temp, groups)):\n",
    "    trn_x, trn_y = X_train_temp.iloc[trn_idx], y_train_temp.iloc[trn_idx]\n",
    "    val_x, val_y = X_train_temp.iloc[val_idx], y_train_temp.iloc[val_idx]\n",
    "        \n",
    "    model.fit(trn_x, trn_y)\n",
    "    y_pred = model.predict(val_x)\n",
    "    y_val_save.iloc[val_idx,0:2] = y_pred\n",
    "    print(abs(val_y - y_pred).mean())\n",
    "    print(E22(val_y, y_pred))\n",
    "    \n",
    "    y_pred_test = pd.DataFrame(model.predict(X_test_temp))\n",
    "    \n",
    "    y_test['X'] += np.array(y_pred_test[0]/5)\n",
    "    y_test['Y'] += np.array(y_pred_test[1]/5)"
   ]
  },
  {
   "cell_type": "code",
   "execution_count": 352,
   "metadata": {},
   "outputs": [],
   "source": [
    "y_val_save['X'] = np.clip(y_val_save['X'], -400, 400)\n",
    "y_val_save['Y'] = np.clip(y_val_save['Y'], -400, 400)"
   ]
  },
  {
   "cell_type": "code",
   "execution_count": 353,
   "metadata": {},
   "outputs": [
    {
     "data": {
      "text/plain": [
       "0.00014207357142857142"
      ]
     },
     "execution_count": 353,
     "metadata": {},
     "output_type": "execute_result"
    }
   ],
   "source": [
    "E11(y_train, y_val_save)"
   ]
  },
  {
   "cell_type": "markdown",
   "metadata": {},
   "source": [
    "# Random Forest _ M, V\n",
    "똑같은 과정을 RF로 시행해줍니다\n"
   ]
  },
  {
   "cell_type": "code",
   "execution_count": 354,
   "metadata": {},
   "outputs": [],
   "source": [
    "drop_list = list(set(np.where(df_MV_temp.values >= np.finfo(np.float32).max)[1]))"
   ]
  },
  {
   "cell_type": "code",
   "execution_count": 355,
   "metadata": {},
   "outputs": [],
   "source": [
    "df_MV_temp.drop(df_MV_temp.columns[drop_list], axis=1, inplace=True)"
   ]
  },
  {
   "cell_type": "code",
   "execution_count": 356,
   "metadata": {
    "scrolled": true
   },
   "outputs": [
    {
     "name": "stdout",
     "output_type": "stream",
     "text": [
      "0.0010057142857174818\n",
      "0.0010914285714332362\n",
      "0.008834285714289958\n",
      "0.0016057142857191001\n",
      "0.0016342857142878245\n",
      "0.0035460317460373216\n",
      "0.0011492063492092137\n",
      "0.002120634920638653\n",
      "0.0014857142857179594\n",
      "0.004577777777781676\n",
      "0.0007821428571465279\n",
      "0.0032107142857194177\n",
      "0.0027928571428614893\n",
      "0.007467857142864348\n",
      "0.0009035714285755003\n",
      "0.005450000000001809\n",
      "0.00148571428571719\n",
      "0.0026218181818231695\n",
      "0.0035018181818213647\n",
      "0.001334545454549712\n",
      "0.0018818181818223405\n",
      "0.0017393939393964906\n",
      "0.008012121212126197\n",
      "7.384615385168573e-05\n",
      "0.0011876923076966578\n",
      "0.001213953488377615\n",
      "0.0004232558139585927\n",
      "0.003813953488374284\n",
      "0.0029395348837257963\n",
      "0.0030190476190500646\n",
      "0.0033560000000046864\n",
      "0.0004580000000057427\n",
      "0.00023030303030936462\n",
      "0.0002020202020257177\n",
      "3.0303030308722747e-05\n",
      "0.002159259259263477\n",
      "0.00019622641509924488\n",
      "0.0014754716981174665\n",
      "0.002143396226420336\n",
      "0.000641509433967431\n",
      "0.0029311475409885285\n",
      "0.0024600000000059028\n",
      "0.0011200000000030838\n",
      "0.000996666666672158\n",
      "0.002813333333336789\n",
      "0.027858823529412078\n",
      "0.029258823529413728\n",
      "0.003858823529413289\n",
      "0.014729411764707004\n",
      "0.010312500000001713\n",
      "0.003338461538465266\n",
      "0.008707692307693488\n",
      "0.008846153846154382\n",
      "0.0044999999999994445\n",
      "0.003566666666669322\n"
     ]
    }
   ],
   "source": [
    "from sklearn import linear_model\n",
    "from sklearn.model_selection import GroupKFold\n",
    "\n",
    "model = RandomForestRegressor(n_jobs=-1, random_state=777, n_estimators=1000, max_features=0.3)\n",
    "\n",
    "num_fold=5\n",
    "score = []\n",
    "for Time in [1,2,3,4,5,6,7,8,9,10,11]:\n",
    "    T = Time\n",
    "    t1 = df_MV_temp[df_MV_temp['first_time'] == T]\n",
    "    t1 = t1.drop(['first_time'], axis=1)\n",
    "\n",
    "    X_train_temp = t1.loc[t1.index < 2800]\n",
    "    X_test_temp = t1.loc[t1.index >= 2800]\n",
    "\n",
    "    y_train_temp = y_train.loc[t1.index]\n",
    "    y_train_temp = y_train_temp[y_train_temp.index < 2800]\n",
    "    \n",
    "    kf = KFold(n_splits=num_fold, shuffle=True, random_state=777)\n",
    "    for n_fold, (trn_idx, val_idx) in enumerate(kf.split(X_train_temp)):\n",
    "        trn_x, trn_y = X_train_temp.iloc[trn_idx], y_train_temp.iloc[trn_idx]\n",
    "        val_x, val_y = X_train_temp.iloc[val_idx], y_train_temp.iloc[val_idx]\n",
    "        \n",
    "        #clf = linear_model.Lasso(alpha=0)\n",
    "        model.fit(trn_x, trn_y['V'])\n",
    "        y_pred = model.predict(val_x)\n",
    "        print(abs(val_y['V'] - y_pred).mean())\n",
    "        score.append(abs(val_y['V'] - y_pred).mean())\n",
    "        y_test.loc[X_test_temp.index,'V'] += model.predict(X_test_temp)/num_fold\n",
    "        y_val_save.loc[val_x.index,'V'] = y_pred\n",
    "#print(E22(val_y, y_pred))"
   ]
  },
  {
   "cell_type": "code",
   "execution_count": 357,
   "metadata": {},
   "outputs": [],
   "source": [
    "np.array(score).mean()\n",
    "V_value = y_val_save['V'].append(y_test['V'])"
   ]
  },
  {
   "cell_type": "code",
   "execution_count": 358,
   "metadata": {
    "scrolled": true
   },
   "outputs": [
    {
     "name": "stdout",
     "output_type": "stream",
     "text": [
      "2.8642857142857134\n",
      "3.3614285714285734\n",
      "3.392857142857144\n",
      "3.7228571428571433\n",
      "2.831428571428573\n",
      "1.7325396825396835\n",
      "1.7682539682539677\n",
      "2.204761904761904\n",
      "1.9325396825396832\n",
      "1.971428571428571\n",
      "1.9348214285714291\n",
      "2.6183035714285725\n",
      "1.1129464285714288\n",
      "2.6691964285714276\n",
      "1.7897321428571442\n",
      "2.9508928571428577\n",
      "1.813392857142858\n",
      "2.8345454545454554\n",
      "2.283181818181818\n",
      "1.3936363636363631\n",
      "1.8488636363636364\n",
      "1.739393939393939\n",
      "1.630681818181817\n",
      "1.7869230769230777\n",
      "1.3969230769230778\n",
      "1.580813953488372\n",
      "2.934302325581393\n",
      "2.2046511627906997\n",
      "1.6773255813953503\n",
      "1.7095238095238092\n",
      "2.1805\n",
      "1.6784999999999997\n",
      "1.1333333333333329\n",
      "0.8790404040404051\n",
      "1.0174242424242423\n",
      "2.1092592592592587\n",
      "2.4438679245283037\n",
      "1.9103773584905663\n",
      "1.7896226415094347\n",
      "1.630188679245283\n",
      "2.0454918032786895\n",
      "1.5925000000000002\n",
      "2.085416666666668\n",
      "2.1754166666666657\n",
      "1.7916666666666679\n",
      "5.816176470588234\n",
      "5.285294117647061\n",
      "8.523529411764704\n",
      "7.9529411764705875\n",
      "7.785937499999998\n",
      "9.18269230769231\n",
      "7.296153846153849\n",
      "16.18846153846154\n",
      "10.704166666666664\n",
      "10.893750000000002\n"
     ]
    }
   ],
   "source": [
    "score = []\n",
    "for Time in [1,2,3,4,5,6,7,8,9,10,11]:\n",
    "    T = Time\n",
    "    \n",
    "    df_temp1_abs_cumsum = abs(df_temp1).cumsum(axis=1)\n",
    "\n",
    "    index = temp[(temp['time'] == Time)].index\n",
    "    index = index[index<2800]\n",
    "    max_corr = []\n",
    "    for col in df_temp1_abs_cumsum.columns:\n",
    "        max_corr.append(np.corrcoef(df_temp1_abs_cumsum.loc[index][col]/y_train.loc[index,'V'], y_train.loc[index,'M'])[0][1])\n",
    "\n",
    "    max_corr = [0 if x != x else x for x in max_corr]\n",
    "    col = df_temp1.columns[np.array(max_corr).argmax()]\n",
    "    \n",
    "    index = temp[(temp['time'] == Time)].index\n",
    "    magic_col1 = df_temp1_abs_cumsum.loc[index, col]/V_value.loc[index]       \n",
    "    \n",
    "    t1 = df_MV_temp[df_MV_temp['first_time'] == T]\n",
    "    t1 = t1.drop(['first_time'], axis=1)\n",
    "    \n",
    "    magic_col1 = df_temp1_abs_cumsum.loc[index, col]/V_value.loc[index]      \n",
    "    magic_col2 = df_temp1_abs_cumsum.loc[index, col]/V_value.loc[index]**(1/2)\n",
    "    magic_col3 = df_temp1_abs_cumsum.loc[index, col]/V_value.loc[index]**2\n",
    "    magic_col4 = df_temp1_abs_cumsum.loc[index, col]/V_value.loc[index]**(1/3)\n",
    "    magic_col5 = df_temp1_abs_cumsum.loc[index, col]/V_value.loc[index]**3\n",
    "    magic_col6 = df_temp1_abs_cumsum.loc[index, col]/V_value.loc[index]**(1/4)\n",
    "    magic_col7 = df_temp1_abs_cumsum.loc[index, col]/V_value.loc[index]**4\n",
    "    \n",
    "    t1 = df_MV_temp[df_MV_temp['first_time'] == T]\n",
    "    t1 = t1.drop(['first_time'], axis=1)\n",
    "    \n",
    "    t1['V'] = V_value\n",
    "    t1['magic_col1'] = np.array(magic_col1)\n",
    "    t1['magic_col1_2'] = np.array(magic_col1)**2\n",
    "    t1['magic_col1_1/2'] = np.array(magic_col1)**(1/2)\n",
    "    \n",
    "    t1['magic_col2'] = np.array(magic_col2)\n",
    "    t1['magic_col2_2'] = np.array(magic_col2)**2\n",
    "    t1['magic_col2_1/2'] = np.array(magic_col2)**(1/2)\n",
    "    \n",
    "    t1['magic_col3'] = np.array(magic_col3)\n",
    "    t1['magic_col3_2'] = np.array(magic_col3)**2\n",
    "    t1['magic_col3_1/2'] = np.array(magic_col3)**(1/2)\n",
    "    \n",
    "    t1['magic_col4'] = np.array(magic_col4)\n",
    "    t1['magic_col4_2'] = np.array(magic_col4)**2\n",
    "    t1['magic_col4_1/2'] = np.array(magic_col4)**(1/2)\n",
    "    \n",
    "    t1['magic_col5'] = np.array(magic_col5)\n",
    "    t1['magic_col5_2'] = np.array(magic_col5)**2\n",
    "    t1['magic_col5_1/2'] = np.array(magic_col5)**(1/2)\n",
    "    \n",
    "    t1['magic_col6'] = np.array(magic_col6)\n",
    "    t1['magic_col6_2'] = np.array(magic_col6)**2\n",
    "    t1['magic_col6_1/2'] = np.array(magic_col6)**(1/2)\n",
    "    \n",
    "    t1['magic_col7'] = np.array(magic_col7)\n",
    "    t1['magic_col7_2'] = np.array(magic_col7)**2\n",
    "    t1['magic_col7_1/2'] = np.array(magic_col7)**(1/2)\n",
    "    X_train_temp = t1.loc[t1.index < 2800]\n",
    "    X_test_temp = t1.loc[t1.index >= 2800]\n",
    "\n",
    "    y_train_temp = y_train.loc[t1.index]\n",
    "    y_train_temp = y_train_temp[y_train_temp.index < 2800]\n",
    "    \n",
    "    kf = KFold(n_splits=num_fold, shuffle=True, random_state=777)\n",
    "    for n_fold, (trn_idx, val_idx) in enumerate(kf.split(X_train_temp)):\n",
    "        trn_x, trn_y = X_train_temp.iloc[trn_idx], y_train_temp.iloc[trn_idx]\n",
    "        val_x, val_y = X_train_temp.iloc[val_idx], y_train_temp.iloc[val_idx]\n",
    "        \n",
    "        #clf = linear_model.Lasso(alpha=0)\n",
    "        model.fit(trn_x, trn_y['M'])\n",
    "        y_pred = model.predict(val_x)\n",
    "        print(abs(val_y['M'] - y_pred).mean())\n",
    "        score.append(abs(val_y['M'] - y_pred).mean())\n",
    "        y_test.loc[X_test_temp.index,'M'] += model.predict(X_test_temp)/num_fold\n",
    "        y_val_save.loc[val_x.index,'M'] = y_pred"
   ]
  },
  {
   "cell_type": "code",
   "execution_count": 359,
   "metadata": {},
   "outputs": [],
   "source": [
    "y_test_rf = y_test.copy()"
   ]
  },
  {
   "cell_type": "code",
   "execution_count": 360,
   "metadata": {},
   "outputs": [],
   "source": [
    "y_test = (y_test_rf + y_test_lasso)/2\n"
   ]
  },
  {
   "cell_type": "code",
   "execution_count": 361,
   "metadata": {},
   "outputs": [],
   "source": [
    "Case5 = y_test.copy()"
   ]
  },
  {
   "cell_type": "markdown",
   "metadata": {},
   "source": [
    "## 6. 결과 및 결언\n",
    "## Conclusion & Discussion"
   ]
  },
  {
   "cell_type": "code",
   "execution_count": 366,
   "metadata": {},
   "outputs": [],
   "source": [
    "Case5.to_csv(\"Case5.csv\")"
   ]
  }
 ],
 "metadata": {
  "kernelspec": {
   "display_name": "Python 3",
   "language": "python",
   "name": "python3"
  },
  "language_info": {
   "codemirror_mode": {
    "name": "ipython",
    "version": 3
   },
   "file_extension": ".py",
   "mimetype": "text/x-python",
   "name": "python",
   "nbconvert_exporter": "python",
   "pygments_lexer": "ipython3",
   "version": "3.6.7"
  }
 },
 "nbformat": 4,
 "nbformat_minor": 2
}
